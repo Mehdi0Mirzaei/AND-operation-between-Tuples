{
 "cells": [
  {
   "cell_type": "code",
   "execution_count": 37,
   "id": "c6fa8979",
   "metadata": {},
   "outputs": [
    {
     "name": "stdout",
     "output_type": "stream",
     "text": [
      "The original tuple 1 : (10, 4, 5)\n",
      "The original tuple 2 : (2, 5, 18)\n",
      "Resultant tuple after AND operation : (2, 4, 0)\n"
     ]
    }
   ],
   "source": [
    "# initialize tuples \n",
    "test_tup1 = (10, 4, 5)\n",
    "test_tup2 = (2, 5, 18)\n",
    " \n",
    "# printing original tuples \n",
    "print(\"The original tuple 1 : \" + str(test_tup1))\n",
    "print(\"The original tuple 2 : \" + str(test_tup2))\n",
    " \n",
    "# Cross Tuple AND operation\n",
    "# using map() + lambda\n",
    "res = tuple(map(lambda i, j: i & j, test_tup1, test_tup2))\n",
    " \n",
    "# printing result\n",
    "print(\"Resultant tuple after AND operation : \" + str(res))"
   ]
  },
  {
   "cell_type": "code",
   "execution_count": 38,
   "id": "29ad4e76",
   "metadata": {},
   "outputs": [
    {
     "name": "stdout",
     "output_type": "stream",
     "text": [
      "The original tuple 1 : (10, 4, 5)\n",
      "The original tuple 2 : (2, 5, 18)\n",
      "Resultant tuple after AND operation : (2, 4, 0)\n"
     ]
    }
   ],
   "source": [
    "# initialize tuples \n",
    "test_tup1 = (10, 4, 5)\n",
    "test_tup2 = (2, 5, 18)\n",
    "   \n",
    "# printing original tuples \n",
    "print(\"The original tuple 1 : \" + str(test_tup1))\n",
    "print(\"The original tuple 2 : \" + str(test_tup2))\n",
    "   \n",
    "# Cross Tuple AND operation\n",
    "# using List comprehension\n",
    "res = tuple([i & j for i,j in zip(test_tup1, test_tup2)])\n",
    "   \n",
    "# printing result\n",
    "print(\"Resultant tuple after AND operation : \" + str(res))"
   ]
  },
  {
   "cell_type": "code",
   "execution_count": 39,
   "id": "4aa846e6",
   "metadata": {},
   "outputs": [
    {
     "name": "stdout",
     "output_type": "stream",
     "text": [
      "The original tuple 1 : (10, 4, 5)\n",
      "The original tuple 2 : (2, 5, 18)\n",
      "(2, 4, 0)\n"
     ]
    }
   ],
   "source": [
    "test_tup1 = (10, 4, 5)\n",
    "test_tup2 = (2, 5, 18)\n",
    "# printing original tuples\n",
    "print(\"The original tuple 1 : \" + str(test_tup1))\n",
    "print(\"The original tuple 2 : \" + str(test_tup2))\n",
    "res = tuple([i & j for i, j in zip(test_tup1, test_tup2)])\n",
    "print(res)"
   ]
  },
  {
   "cell_type": "code",
   "execution_count": null,
   "id": "1e6a0079",
   "metadata": {},
   "outputs": [],
   "source": []
  }
 ],
 "metadata": {
  "kernelspec": {
   "display_name": "Python 3 (ipykernel)",
   "language": "python",
   "name": "python3"
  },
  "language_info": {
   "codemirror_mode": {
    "name": "ipython",
    "version": 3
   },
   "file_extension": ".py",
   "mimetype": "text/x-python",
   "name": "python",
   "nbconvert_exporter": "python",
   "pygments_lexer": "ipython3",
   "version": "3.9.13"
  }
 },
 "nbformat": 4,
 "nbformat_minor": 5
}
